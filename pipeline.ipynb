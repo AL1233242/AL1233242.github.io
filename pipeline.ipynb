{
 "cells": [
  {
   "cell_type": "code",
   "execution_count": 1,
   "metadata": {},
   "outputs": [
    {
     "data": {
      "text/html": [
       "<div>\n",
       "<style scoped>\n",
       "    .dataframe tbody tr th:only-of-type {\n",
       "        vertical-align: middle;\n",
       "    }\n",
       "\n",
       "    .dataframe tbody tr th {\n",
       "        vertical-align: top;\n",
       "    }\n",
       "\n",
       "    .dataframe thead th {\n",
       "        text-align: right;\n",
       "    }\n",
       "</style>\n",
       "<table border=\"1\" class=\"dataframe\">\n",
       "  <thead>\n",
       "    <tr style=\"text-align: right;\">\n",
       "      <th></th>\n",
       "      <th>Name</th>\n",
       "      <th>Grade</th>\n",
       "      <th>Age (In Years)</th>\n",
       "      <th>Height (in feet)</th>\n",
       "    </tr>\n",
       "  </thead>\n",
       "  <tbody>\n",
       "    <tr>\n",
       "      <th>0</th>\n",
       "      <td>Kylee Hung</td>\n",
       "      <td>10th</td>\n",
       "      <td>16</td>\n",
       "      <td>5'3</td>\n",
       "    </tr>\n",
       "    <tr>\n",
       "      <th>1</th>\n",
       "      <td>Sevan Toufayan</td>\n",
       "      <td>10th</td>\n",
       "      <td>16</td>\n",
       "      <td>5'7</td>\n",
       "    </tr>\n",
       "    <tr>\n",
       "      <th>2</th>\n",
       "      <td>Emma Lopez</td>\n",
       "      <td>10th</td>\n",
       "      <td>15</td>\n",
       "      <td>5'0</td>\n",
       "    </tr>\n",
       "    <tr>\n",
       "      <th>3</th>\n",
       "      <td>Hannah Pappalardo</td>\n",
       "      <td>10th</td>\n",
       "      <td>16</td>\n",
       "      <td>5'8</td>\n",
       "    </tr>\n",
       "    <tr>\n",
       "      <th>4</th>\n",
       "      <td>Sophie Gutter</td>\n",
       "      <td>10th</td>\n",
       "      <td>16</td>\n",
       "      <td>5'3</td>\n",
       "    </tr>\n",
       "  </tbody>\n",
       "</table>\n",
       "</div>"
      ],
      "text/plain": [
       "                Name Grade  Age (In Years) Height (in feet)\n",
       "0         Kylee Hung  10th              16              5'3\n",
       "1     Sevan Toufayan  10th              16              5'7\n",
       "2         Emma Lopez  10th              15              5'0\n",
       "3  Hannah Pappalardo  10th              16              5'8\n",
       "4      Sophie Gutter  10th              16              5'3"
      ]
     },
     "execution_count": 1,
     "metadata": {},
     "output_type": "execute_result"
    }
   ],
   "source": [
    "import pandas as pd\n",
    "import sklearn.model_selection\n",
    "df = pd.read_csv('Comp Sci Project - Sheet3.csv')\n",
    "df.head()"
   ]
  },
  {
   "cell_type": "code",
   "execution_count": 2,
   "metadata": {},
   "outputs": [
    {
     "data": {
      "text/html": [
       "<div>\n",
       "<style scoped>\n",
       "    .dataframe tbody tr th:only-of-type {\n",
       "        vertical-align: middle;\n",
       "    }\n",
       "\n",
       "    .dataframe tbody tr th {\n",
       "        vertical-align: top;\n",
       "    }\n",
       "\n",
       "    .dataframe thead th {\n",
       "        text-align: right;\n",
       "    }\n",
       "</style>\n",
       "<table border=\"1\" class=\"dataframe\">\n",
       "  <thead>\n",
       "    <tr style=\"text-align: right;\">\n",
       "      <th></th>\n",
       "      <th>Name</th>\n",
       "      <th>Grade</th>\n",
       "      <th>Age (In Years)</th>\n",
       "      <th>Height (in feet)</th>\n",
       "      <th>Height (in inches)</th>\n",
       "    </tr>\n",
       "  </thead>\n",
       "  <tbody>\n",
       "    <tr>\n",
       "      <th>0</th>\n",
       "      <td>Kylee Hung</td>\n",
       "      <td>10th</td>\n",
       "      <td>16</td>\n",
       "      <td>5'3</td>\n",
       "      <td>63</td>\n",
       "    </tr>\n",
       "    <tr>\n",
       "      <th>1</th>\n",
       "      <td>Sevan Toufayan</td>\n",
       "      <td>10th</td>\n",
       "      <td>16</td>\n",
       "      <td>5'7</td>\n",
       "      <td>67</td>\n",
       "    </tr>\n",
       "    <tr>\n",
       "      <th>2</th>\n",
       "      <td>Emma Lopez</td>\n",
       "      <td>10th</td>\n",
       "      <td>15</td>\n",
       "      <td>5'0</td>\n",
       "      <td>60</td>\n",
       "    </tr>\n",
       "    <tr>\n",
       "      <th>3</th>\n",
       "      <td>Hannah Pappalardo</td>\n",
       "      <td>10th</td>\n",
       "      <td>16</td>\n",
       "      <td>5'8</td>\n",
       "      <td>68</td>\n",
       "    </tr>\n",
       "    <tr>\n",
       "      <th>4</th>\n",
       "      <td>Sophie Gutter</td>\n",
       "      <td>10th</td>\n",
       "      <td>16</td>\n",
       "      <td>5'3</td>\n",
       "      <td>63</td>\n",
       "    </tr>\n",
       "  </tbody>\n",
       "</table>\n",
       "</div>"
      ],
      "text/plain": [
       "                Name Grade  Age (In Years) Height (in feet)  \\\n",
       "0         Kylee Hung  10th              16              5'3   \n",
       "1     Sevan Toufayan  10th              16              5'7   \n",
       "2         Emma Lopez  10th              15              5'0   \n",
       "3  Hannah Pappalardo  10th              16              5'8   \n",
       "4      Sophie Gutter  10th              16              5'3   \n",
       "\n",
       "   Height (in inches)  \n",
       "0                  63  \n",
       "1                  67  \n",
       "2                  60  \n",
       "3                  68  \n",
       "4                  63  "
      ]
     },
     "execution_count": 2,
     "metadata": {},
     "output_type": "execute_result"
    }
   ],
   "source": [
    "# Convert height from feet and inches to total inches\n",
    "def convert_to_inches(height_str):\n",
    "    feet, inches = height_str.split(\"'\")\n",
    "    return int(feet) * 12 + int(inches)\n",
    "\n",
    "# Create new column with heights in inches\n",
    "df['Height (in inches)'] = df['Height (in feet)'].apply(convert_to_inches)\n",
    "\n",
    "# Display the updated DataFrame\n",
    "df.head()"
   ]
  },
  {
   "cell_type": "code",
   "execution_count": 3,
   "metadata": {},
   "outputs": [
    {
     "name": "stdout",
     "output_type": "stream",
     "text": [
      "Training set shape: (40, 2)\n",
      "Testing set shape: (10, 2)\n",
      "\n",
      "Training data preview:\n",
      "    Age (In Years)  Height (in inches)\n",
      "12              17                  66\n",
      "4               16                  63\n",
      "37              14                  60\n",
      "8               16                  69\n",
      "3               16                  68\n",
      "\n",
      "Training labels preview:\n",
      "12    11th\n",
      "4     10th\n",
      "37     8th\n",
      "8     10th\n",
      "3     10th\n",
      "Name: Grade, dtype: object\n"
     ]
    }
   ],
   "source": [
    "from sklearn.model_selection import train_test_split\n",
    "\n",
    "# Prepare features (X) and target (y)\n",
    "# For this example, let's use Age and Height as features\n",
    "X = df[['Age (In Years)', 'Height (in inches)']]\n",
    "y = df['Grade']  # Using Grade as the target variable\n",
    "\n",
    "# Create train-test split (80% training, 20% testing)\n",
    "X_train, X_test, y_train, y_test = train_test_split(X, y, test_size=0.2, random_state=42)\n",
    "\n",
    "# Display the shapes of the resulting datasets\n",
    "print(\"Training set shape:\", X_train.shape)\n",
    "print(\"Testing set shape:\", X_test.shape)\n",
    "\n",
    "# Display first few rows of training data\n",
    "print(\"\\nTraining data preview:\")\n",
    "print(X_train.head())\n",
    "print(\"\\nTraining labels preview:\")\n",
    "print(y_train.head())"
   ]
  },
  {
   "cell_type": "code",
   "execution_count": 4,
   "metadata": {},
   "outputs": [
    {
     "name": "stderr",
     "output_type": "stream",
     "text": [
      "/var/folders/gy/z3sbf1rj41b8wpvz_cf_3t380000gn/T/ipykernel_21988/1393944417.py:5: MatplotlibDeprecationWarning: The seaborn styles shipped by Matplotlib are deprecated since 3.6, as they no longer correspond to the styles shipped by seaborn. However, they will remain available as 'seaborn-v0_8-<style>'. Alternatively, directly use the seaborn API instead.\n",
      "  plt.style.use('seaborn')\n"
     ]
    },
    {
     "data": {
      "image/png": "[encoded data removed]",
      "text/plain": [
       "<Figure size 1000x600 with 1 Axes>"
      ]
     },
     "metadata": {},
     "output_type": "display_data"
    }
   ],
   "source": [
    "import matplotlib.pyplot as plt\n",
    "import seaborn as sns\n",
    "\n",
    "# Set the style for better visualization\n",
    "plt.style.use('seaborn')\n",
    "\n",
    "# Create the scatter plot with regression line\n",
    "plt.figure(figsize=(10, 6))\n",
    "sns.regplot(data=df, x='Age (In Years)', y='Height (in inches)', \n",
    "            scatter_kws={'alpha':0.5}, line_kws={'color': 'red'})\n",
    "\n",
    "# Add labels and title\n",
    "plt.title('Relationship between Age and Height', fontsize=14)\n",
    "plt.xlabel('Age (Years)', fontsize=12)\n",
    "plt.ylabel('Height (inches)', fontsize=12)\n",
    "\n",
    "# Show the plot\n",
    "plt.show()"
   ]
  },
  {
   "cell_type": "code",
   "execution_count": 5,
   "metadata": {},
   "outputs": [
    {
     "name": "stdout",
     "output_type": "stream",
     "text": [
      "Line of Best Fit Equation: y = 0.85x + 53.14\n",
      "Where:\n",
      "y = Height (inches)\n",
      "x = Age (Years)\n"
     ]
    }
   ],
   "source": [
    "# Calculate the line of best fit using numpy's polyfit\n",
    "import numpy as np\n",
    "\n",
    "# Get coefficients (slope and intercept) of the line of best fit\n",
    "slope, intercept = np.polyfit(df['Age (In Years)'], df['Height (in inches)'], 1)\n",
    "\n",
    "print(f\"Line of Best Fit Equation: y = {slope:.2f}x + {intercept:.2f}\")\n",
    "print(f\"Where:\")\n",
    "print(f\"y = Height (inches)\")\n",
    "print(f\"x = Age (Years)\")\n"
   ]
  },
  {
   "cell_type": "code",
   "execution_count": 1,
   "metadata": {},
   "outputs": [
    {
     "ename": "NameError",
     "evalue": "name 'df' is not defined",
     "output_type": "error",
     "traceback": [
      "\u001b[0;31m---------------------------------------------------------------------------\u001b[0m",
      "\u001b[0;31mNameError\u001b[0m                                 Traceback (most recent call last)",
      "Cell \u001b[0;32mIn[1], line 5\u001b[0m\n\u001b[1;32m      2\u001b[0m \u001b[38;5;28;01mfrom\u001b[39;00m \u001b[38;5;21;01msklearn\u001b[39;00m\u001b[38;5;21;01m.\u001b[39;00m\u001b[38;5;21;01mlinear_model\u001b[39;00m \u001b[38;5;28;01mimport\u001b[39;00m LinearRegression\n\u001b[1;32m      4\u001b[0m \u001b[38;5;66;03m# Prepare X (features) and y (target)\u001b[39;00m\n\u001b[0;32m----> 5\u001b[0m X \u001b[38;5;241m=\u001b[39m \u001b[43mdf\u001b[49m[[\u001b[38;5;124m'\u001b[39m\u001b[38;5;124mAge (In Years)\u001b[39m\u001b[38;5;124m'\u001b[39m]]\n\u001b[1;32m      6\u001b[0m y \u001b[38;5;241m=\u001b[39m df[\u001b[38;5;124m'\u001b[39m\u001b[38;5;124mHeight (in inches)\u001b[39m\u001b[38;5;124m'\u001b[39m]\n\u001b[1;32m      8\u001b[0m \u001b[38;5;66;03m# Split the data into training and testing sets (80-20 split)\u001b[39;00m\n",
      "\u001b[0;31mNameError\u001b[0m: name 'df' is not defined"
     ]
    }
   ],
   "source": [
    "from sklearn.model_selection import train_test_split\n",
    "from sklearn.linear_model import LinearRegression\n",
    "\n",
    "# Prepare X (features) and y (target)\n",
    "X = df[['Age (In Years)']]\n",
    "y = df['Height (in inches)']\n",
    "\n",
    "# Split the data into training and testing sets (80-20 split)\n",
    "X_train, X_test, y_train, y_test = train_test_split(X, y, test_size=0.2, random_state=42)\n",
    "\n",
    "# Create and train the model\n",
    "model = LinearRegression()\n",
    "model.fit(X_train, y_train)\n",
    "\n",
    "# Print the model coefficients\n",
    "print(f\"Linear Regression Equation: y = {model.coef_[0]:.2f}x + {model.intercept_:.2f}\")\n",
    "print(f\"Where:\")\n",
    "print(f\"y = Height (inches)\")\n",
    "print(f\"x = Age (Years)\")\n",
    "\n",
    "# Create scatter plot with training and test data\n",
    "plt.figure(figsize=(10, 6))\n",
    "plt.scatter(X_train, y_train, alpha=0.5, label='Training Data')\n",
    "plt.scatter(X_test, y_test, alpha=0.5, label='Testing Data')\n",
    "\n",
    "# Plot regression line\n",
    "plt.plot(X_train, model.predict(X_train), color='red', label='Regression Line')\n",
    "\n",
    "plt.title('Age vs Height - Training and Testing Sets', fontsize=14)\n",
    "plt.xlabel('Age (Years)', fontsize=12)\n",
    "plt.ylabel('Height (inches)', fontsize=12)\n",
    "plt.legend()\n",
    "plt.show()\n",
    "\n",
    "# Calculate and print R-squared score\n",
    "train_score = model.score(X_train, y_train)\n",
    "test_score = model.score(X_test, y_test)\n",
    "print(f\"\\nR-squared score (training): {train_score:.4f}\")\n",
    "print(f\"R-squared score (testing): {test_score:.4f}\")\n"
   ]
  }
 ],
 "metadata": {
  "kernelspec": {
   "display_name": "Python 3",
   "language": "python",
   "name": "python3"
  },
  "language_info": {
   "codemirror_mode": {
    "name": "ipython",
    "version": 3
   },
   "file_extension": ".py",
   "mimetype": "text/x-python",
   "name": "python",
   "nbconvert_exporter": "python",
   "pygments_lexer": "ipython3",
   "version": "3.8.7"
  }
 },
 "nbformat": 4,
 "nbformat_minor": 2
}
